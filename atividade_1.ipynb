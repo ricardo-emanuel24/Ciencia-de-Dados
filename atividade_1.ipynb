{
  "nbformat": 4,
  "nbformat_minor": 0,
  "metadata": {
    "colab": {
      "provenance": [],
      "authorship_tag": "ABX9TyMK/AFx8HAFcZvuqIcm2iYN",
      "include_colab_link": true
    },
    "kernelspec": {
      "name": "python3",
      "display_name": "Python 3"
    },
    "language_info": {
      "name": "python"
    }
  },
  "cells": [
    {
      "cell_type": "markdown",
      "metadata": {
        "id": "view-in-github",
        "colab_type": "text"
      },
      "source": [
        "<a href=\"https://colab.research.google.com/github/ricardo-emanuel24/Ciencia-de-Dados/blob/main/atividade_1.ipynb\" target=\"_parent\"><img src=\"https://colab.research.google.com/assets/colab-badge.svg\" alt=\"Open In Colab\"/></a>"
      ]
    },
    {
      "cell_type": "markdown",
      "source": [
        "## **1. Comentários, Indentação e Operadores**\n"
      ],
      "metadata": {
        "id": "bUxS6qCHlhKh"
      }
    },
    {
      "cell_type": "markdown",
      "source": [
        "**Comentários:** Usados para explicar o código ou desativar linhas temporariamente."
      ],
      "metadata": {
        "id": "-qgf_f_yoh1R"
      }
    },
    {
      "cell_type": "code",
      "source": [
        "# Este é um comentário de uma linha\n",
        "\n",
        "\"\"\"\n",
        "Este é um comentário\n",
        "de várias linhas.\n",
        "\"\"\""
      ],
      "metadata": {
        "id": "CPTrfZhuoCR7"
      },
      "execution_count": null,
      "outputs": []
    },
    {
      "cell_type": "markdown",
      "source": [
        "**Indentação:** A indentação no Python é essencial (e obrigatório) para definir a estrutura do código e delimitar blocos lógicos, como loops, condicionais e funções.\n",
        "\n",
        "**Boas práticas de indentação:**\n",
        "* Use 4 espaços ou 1 tabulação por nível de indentação.\n",
        "* Não misture espaços e tabulação no mesmo código.\n",
        "* Use a indentação para refletir a hierarquia lógica do programa."
      ],
      "metadata": {
        "id": "Ae_UCmGsKVoz"
      }
    },
    {
      "cell_type": "code",
      "source": [
        "for i in range(3):  # Bloco do loop começa\n",
        "    print(f\"Iteração {i}\")  # Indentado\n",
        "    if i == 1:  # Dentro do loop e da condicional\n",
        "        print(\"i é igual a 1\")  # Dupla indentação\n",
        "print(\"Fim do loop\")  # Fora do loop\n"
      ],
      "metadata": {
        "id": "qNyIMTTyLW-l"
      },
      "execution_count": null,
      "outputs": []
    },
    {
      "cell_type": "markdown",
      "source": [
        "**Operadores:**\n",
        "*   Aritméticos: `+`, `-`, `*`,` /`, `%`, `**`, `//`."
      ],
      "metadata": {
        "id": "xR1mJ1BbL2Kf"
      }
    },
    {
      "cell_type": "code",
      "source": [
        "print(10 + 5)  # Soma\n",
        "print(10 % 3)  # Módulo\n",
        "print(10 ** 3) # Potenciação\n",
        "print(10 // 3) # Divisão inteira"
      ],
      "metadata": {
        "collapsed": true,
        "id": "tFdYZsomMgr7"
      },
      "execution_count": null,
      "outputs": []
    },
    {
      "cell_type": "markdown",
      "source": [
        "* Comparação: `==`, `!=`, `>`, `<`, `>=`, `<=`.\n"
      ],
      "metadata": {
        "id": "U2NGsYDxMkJc"
      }
    },
    {
      "cell_type": "code",
      "source": [
        "print(5 == 3)  # Igual\n",
        "print(5 != 3)  # Diferente\n",
        "print(5 > 3)   # Maior\n",
        "print(5 < 3)   # Menor\n",
        "print(5 >= 3)  # Maior ou igual\n",
        "print(5 <= 3)  # Menor ou igual"
      ],
      "metadata": {
        "id": "ur15seubMefi"
      },
      "execution_count": null,
      "outputs": []
    },
    {
      "cell_type": "markdown",
      "source": [
        "* Lógicos: `and`, `or`, `not`."
      ],
      "metadata": {
        "id": "BZavbOUJMfDW"
      }
    },
    {
      "cell_type": "code",
      "source": [
        "print(True and False)  # False\n",
        "print(True or False)   # True\n",
        "print(not True)        # False"
      ],
      "metadata": {
        "id": "EOEBtI4UO4tx"
      },
      "execution_count": null,
      "outputs": []
    },
    {
      "cell_type": "markdown",
      "source": [
        "## **2. Tipos de Dados**"
      ],
      "metadata": {
        "id": "_MyKHT8RmcH3"
      }
    },
    {
      "cell_type": "markdown",
      "source": [
        "* **Inteiros:** Números sem casas decimais."
      ],
      "metadata": {
        "id": "rTL3GsgdQJSv"
      }
    },
    {
      "cell_type": "code",
      "source": [
        "x = 10"
      ],
      "metadata": {
        "id": "ZWKLcZ8dQIzB"
      },
      "execution_count": null,
      "outputs": []
    },
    {
      "cell_type": "markdown",
      "source": [
        "* **Floats:** Números com casas decimais."
      ],
      "metadata": {
        "id": "TO5FvRWco7hU"
      }
    },
    {
      "cell_type": "code",
      "source": [
        "y = 3.14"
      ],
      "metadata": {
        "id": "ShwNktagQeEw"
      },
      "execution_count": null,
      "outputs": []
    },
    {
      "cell_type": "markdown",
      "source": [
        "* **Complexos:** Números com parte real e imaginária."
      ],
      "metadata": {
        "id": "_zWwEcu9Q0Rv"
      }
    },
    {
      "cell_type": "code",
      "source": [
        "z = 2 + 3j"
      ],
      "metadata": {
        "id": "LPzivqcQQ3If"
      },
      "execution_count": null,
      "outputs": []
    },
    {
      "cell_type": "markdown",
      "source": [
        "* **Strings:** Texto delimitado por aspas."
      ],
      "metadata": {
        "id": "2IRtVowfQ4wX"
      }
    },
    {
      "cell_type": "code",
      "source": [
        "s = \"Olá, mundo!\""
      ],
      "metadata": {
        "id": "Kqi2rSw3Q-0p"
      },
      "execution_count": null,
      "outputs": []
    },
    {
      "cell_type": "markdown",
      "source": [
        "* **Booleanos:** Valores `True` ou `False`"
      ],
      "metadata": {
        "id": "mG0u6aBSRAen"
      }
    },
    {
      "cell_type": "code",
      "source": [
        "is_active = True"
      ],
      "metadata": {
        "id": "HphWKz0cRIl4"
      },
      "execution_count": null,
      "outputs": []
    },
    {
      "cell_type": "markdown",
      "source": [
        "## **3. Estruturas de Dados**"
      ],
      "metadata": {
        "id": "trIJk8mankEV"
      }
    },
    {
      "cell_type": "markdown",
      "source": [
        "* **Listas**: Coleções ordenadas e mutáveis"
      ],
      "metadata": {
        "id": "jJQJGGGTRha3"
      }
    },
    {
      "cell_type": "code",
      "source": [
        "lista = [\"lista\", 1, 2, 3] # Pode armazenar qualquer tipo de dado\n",
        "lista.append(4) # Adiciona uma variável no final da lista"
      ],
      "metadata": {
        "id": "8kQPUQ5tb6_Q"
      },
      "execution_count": null,
      "outputs": []
    },
    {
      "cell_type": "markdown",
      "source": [
        "* **Tuplas**: Coleções ordenadas e imutáveis.\n"
      ],
      "metadata": {
        "id": "vYLKJ_8ocBQX"
      }
    },
    {
      "cell_type": "code",
      "source": [
        "tupla = (1, 2, 3)"
      ],
      "metadata": {
        "id": "xKIYbswIcFQ_"
      },
      "execution_count": null,
      "outputs": []
    },
    {
      "cell_type": "markdown",
      "source": [
        "* **Conjuntos**: Coleções não ordenadas e únicas"
      ],
      "metadata": {
        "id": "4ME8lo8CcG0H"
      }
    },
    {
      "cell_type": "code",
      "source": [
        "conjunto = {1, 2, 3, 4}\n",
        "print(conjunto)"
      ],
      "metadata": {
        "id": "So8w-ScMcKA_"
      },
      "execution_count": null,
      "outputs": []
    },
    {
      "cell_type": "markdown",
      "source": [
        "* **Dicionários**: Coleções de pares chave-valor"
      ],
      "metadata": {
        "id": "dV6fgVVycJhX"
      }
    },
    {
      "cell_type": "code",
      "source": [
        "dic = {\"nome\": \"Ricardo\", \"idade\": 23}"
      ],
      "metadata": {
        "id": "jRvg-fVncWcm"
      },
      "execution_count": null,
      "outputs": []
    },
    {
      "cell_type": "markdown",
      "source": [
        "## **4. Condicionais e Loops**"
      ],
      "metadata": {
        "id": "jpk69Jb-nq1l"
      }
    },
    {
      "cell_type": "markdown",
      "source": [
        "* **Condicionais**:\n",
        "As condicionais são usadas para executar diferentes blocos de código dependendo de condições específicas."
      ],
      "metadata": {
        "id": "AIIJ0EEqcjRP"
      }
    },
    {
      "cell_type": "code",
      "source": [
        "x = 10\n",
        "if x > 5:\n",
        "    print(\"Maior que 5\") # Bloco executado se a condição for verdadeira\n",
        "elif x == 5:\n",
        "    print(\"Igual a 5\") # Bloco executado se a outra condição for verdadeira\n",
        "else:\n",
        "    print(\"Menor que 5\") # Bloco executado se nenhuma das condições anteriores for verdadeira"
      ],
      "metadata": {
        "id": "WF268O3CWvL7"
      },
      "execution_count": null,
      "outputs": []
    },
    {
      "cell_type": "markdown",
      "source": [
        "* **Loops**: Loops permitem executar um bloco de código várias vezes, enquanto uma condição seja satisfeita."
      ],
      "metadata": {
        "id": "_WueKoFzWxng"
      }
    },
    {
      "cell_type": "code",
      "source": [
        "for i in range(3): # Itera sobre uma sequência (lista, string, range, etc.).\n",
        "    print(i)  # Gera os números de 0 a 3\n",
        "\n",
        "x = 0\n",
        "while x < 3: # Repete enquanto uma condição for verdadeira.\n",
        "    print(x)\n",
        "    x += 1 # Incrementa para evitar loop infinito"
      ],
      "metadata": {
        "id": "TdYgRx4uXEka"
      },
      "execution_count": null,
      "outputs": []
    },
    {
      "cell_type": "markdown",
      "source": [
        "**Comandos úteis para loops**\n",
        "\n",
        "1. `break`: Sai do loop imediatamente.\n",
        "2. `continue`: Interrompe a iteração atual e vai para a próxima."
      ],
      "metadata": {
        "id": "ujBG91qJdSJU"
      }
    },
    {
      "cell_type": "markdown",
      "source": [
        "Exemplo com `break`:"
      ],
      "metadata": {
        "id": "9e31zF4ldtx2"
      }
    },
    {
      "cell_type": "code",
      "source": [
        "for i in range(10):\n",
        "    if i == 5:\n",
        "        break  # Para o loop quando `i` for 5\n",
        "    print(i)"
      ],
      "metadata": {
        "id": "k08vPn39do9-"
      },
      "execution_count": null,
      "outputs": []
    },
    {
      "cell_type": "markdown",
      "source": [
        "Exemplo com `continue`:"
      ],
      "metadata": {
        "id": "bxcbCPZldw9H"
      }
    },
    {
      "cell_type": "code",
      "source": [
        "for i in range(10):\n",
        "    if i % 2 == 0:\n",
        "        continue  # Pula os números pares\n",
        "    print(i)"
      ],
      "metadata": {
        "id": "jISB_UPIdr63"
      },
      "execution_count": null,
      "outputs": []
    },
    {
      "cell_type": "markdown",
      "source": [
        "## **5. Funções e Lambda**"
      ],
      "metadata": {
        "id": "tg39kdNLnyY1"
      }
    },
    {
      "cell_type": "markdown",
      "source": [
        "As **funções** são blocos reutilizáveis de código que realizam uma tarefa específica. Elas ajudam a organizar e reutilizar o código de maneira eficiente.\n"
      ],
      "metadata": {
        "id": "ZtIM9qeVd-Z1"
      }
    },
    {
      "cell_type": "code",
      "source": [
        "def soma(a, b):\n",
        "    return a + b # A função pode executar uma ação sem devolver nada (return)\n",
        "print(soma(2, 3))  # 5"
      ],
      "metadata": {
        "id": "BfiosyN3eJZQ"
      },
      "execution_count": null,
      "outputs": []
    },
    {
      "cell_type": "markdown",
      "source": [
        "As **funções lambda** são funções anônimas (sem nome) criadas com a palavra-chave lambda. Elas são úteis para definir funções simples em uma única linha."
      ],
      "metadata": {
        "id": "ey2A-5xSeQU1"
      }
    },
    {
      "cell_type": "code",
      "source": [
        "dobro = lambda x: x * 2\n",
        "print(dobro(4))  # 8"
      ],
      "metadata": {
        "id": "diU0Xmeleem1"
      },
      "execution_count": null,
      "outputs": []
    },
    {
      "cell_type": "markdown",
      "source": [
        "## **6. Manipulação de Arquivos**"
      ],
      "metadata": {
        "id": "82HBjLcEn4f9"
      }
    },
    {
      "cell_type": "markdown",
      "source": [
        "O Python fornece ferramentas para **abrir, ler, escrever e manipular** arquivos usando a função `open()`.\n",
        "\n",
        "**Sintaxe:** `open(nome_arquivo, modo)`\n",
        "* `nome_arquivo`: Nome ou caminho do arquivo.\n",
        "* `modo`:\n",
        "  * `\"r\"`: Leitura (padrão).\n",
        "  * `\"w\"`: Escrita (cria ou sobrescreve).\n",
        "  * `\"a\"`: Escrita no final do arquivo (append).\n",
        "  * `\"b\"`: Modo binário.\n",
        "  * `\"r+\"`: Leitura e escrita."
      ],
      "metadata": {
        "id": "ncpF9_RWey6M"
      }
    },
    {
      "cell_type": "code",
      "source": [
        "# Escrevendo\n",
        "with open(\"arquivo.txt\", \"w\") as file: # with: Garante que o arquivo será fechado automaticamente.\n",
        "    file.write(\"Olá, arquivo!\")\n",
        "\n",
        "# Lendo\n",
        "with open(\"arquivo.txt\", \"r\") as file:\n",
        "    print(file.read())"
      ],
      "metadata": {
        "id": "uzwwaQPce021"
      },
      "execution_count": null,
      "outputs": []
    },
    {
      "cell_type": "markdown",
      "source": [
        "**Outros métodos úteis**\n",
        "* `readline()`: Lê uma linha do arquivo.\n",
        "* `readlines()`: Retorna uma lista com todas as linhas.\n",
        "* `writelines()`: Escreve uma lista de strings no arquivo."
      ],
      "metadata": {
        "id": "Bded_nksive6"
      }
    },
    {
      "cell_type": "markdown",
      "source": [
        "## **7. Módulos Embutidos**"
      ],
      "metadata": {
        "id": "XmLDTVBin8Bc"
      }
    },
    {
      "cell_type": "markdown",
      "source": [
        "Os **módulos embutidos** são bibliotecas prontas que vêm com o Python. Para utilizá-los, basta importá-los usando a palavra-chave `import`."
      ],
      "metadata": {
        "id": "E4xDMD7sfCbN"
      }
    },
    {
      "cell_type": "code",
      "source": [
        "import numpy as np # Importando com apelidos\n",
        "print(np.sqrt(16))  # Raiz quadrada de 16\n",
        "\n",
        "import random # O módulo random gera números aleatórios.\n",
        "print(random.randint(1, 10))"
      ],
      "metadata": {
        "id": "ec4nYDoLfGKk"
      },
      "execution_count": null,
      "outputs": []
    },
    {
      "cell_type": "markdown",
      "source": [
        "## **8. Tratamento de Erros**"
      ],
      "metadata": {
        "id": "S_EmagRZn-31"
      }
    },
    {
      "cell_type": "markdown",
      "source": [
        "No Python, **erros ou exceções** podem ser tratados para evitar que o programa pare de funcionar abruptamente. Usa-se o bloco `try...except`."
      ],
      "metadata": {
        "id": "_uCdfw-afKm0"
      }
    },
    {
      "cell_type": "code",
      "source": [
        "try:\n",
        "    x = int(\"texto\")  # Causa um erro\n",
        "except ValueError as e:\n",
        "    print(f\"Erro: {e}\")\n",
        "else:\n",
        "    print(\"Sem erros!\")\n",
        "finally:\n",
        "    print(\"Finalizado!\")"
      ],
      "metadata": {
        "id": "7Zdq-2MhfjGk"
      },
      "execution_count": null,
      "outputs": []
    }
  ]
}