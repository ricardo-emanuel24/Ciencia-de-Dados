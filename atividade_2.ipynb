{
  "nbformat": 4,
  "nbformat_minor": 0,
  "metadata": {
    "colab": {
      "provenance": [],
      "authorship_tag": "ABX9TyNcuapAkXDxg5kBUvzIZHP/",
      "include_colab_link": true
    },
    "kernelspec": {
      "name": "python3",
      "display_name": "Python 3"
    },
    "language_info": {
      "name": "python"
    }
  },
  "cells": [
    {
      "cell_type": "markdown",
      "metadata": {
        "id": "view-in-github",
        "colab_type": "text"
      },
      "source": [
        "<a href=\"https://colab.research.google.com/github/ricardo-emanuel24/Ciencia-de-Dados/blob/main/atividade_2.ipynb\" target=\"_parent\"><img src=\"https://colab.research.google.com/assets/colab-badge.svg\" alt=\"Open In Colab\"/></a>"
      ]
    },
    {
      "cell_type": "markdown",
      "source": [
        "# Previsão do crescimento de uma planta\n",
        "Baseando em duas variáveis numéricas:\n",
        "* Quantidade de luz recebida por dia (em horas)\n",
        "* Volume de água fornecido por dia (em litros)"
      ],
      "metadata": {
        "id": "LltlZKz_bUkI"
      }
    },
    {
      "cell_type": "code",
      "source": [
        "# Bibliotecas\n",
        "import numpy as np\n",
        "import pandas as pd\n",
        "from sklearn.model_selection import train_test_split\n",
        "from sklearn.linear_model import LinearRegression\n",
        "from sklearn.metrics import mean_absolute_error, mean_squared_error, r2_score\n",
        "import matplotlib.pyplot as plt\n",
        "from sklearn.model_selection import cross_val_score"
      ],
      "metadata": {
        "id": "ubSanKWMbOlB"
      },
      "execution_count": 2,
      "outputs": []
    },
    {
      "cell_type": "code",
      "execution_count": 3,
      "metadata": {
        "id": "hzHVOmvBaIUj"
      },
      "outputs": [],
      "source": [
        "# Definir os parâmetros do modelo\n",
        "np.random.seed(42)  # Para resultados reprodutíveis\n",
        "n_samples = 1000  # Número de amostras\n",
        "\n",
        "# Variáveis preditoras (X1 e X2)\n",
        "luz_horas = np.random.uniform(4, 12, n_samples)  # Luz recebida por dia (em horas)\n",
        "agua_litros = np.random.uniform(0.5, 3, n_samples)  # Volume de água por dia (em litros)\n",
        "\n",
        "# Gerar a variável resposta (crescimento em cm)\n",
        "# Fórmula linear base + ruído\n",
        "crescimento = 3 + 0.8 * luz_horas + 2.5 * agua_litros + np.random.normal(0, 1, n_samples)\n",
        "\n",
        "# Criar DataFrame\n",
        "data = pd.DataFrame({\n",
        "    'Luz_horas': luz_horas,\n",
        "    'Agua_litros': agua_litros,\n",
        "    'Crescimento_cm': crescimento\n",
        "})\n",
        "\n",
        "# Visualizar as primeiras linhas do conjunto de dados\n",
        "\n",
        "\n",
        "# Salvar os dados em um arquivo CSV (opcional)\n",
        "data.to_csv('crescimento_plantas.csv', index=False)"
      ]
    },
    {
      "cell_type": "markdown",
      "source": [
        "O código acima gera um conjunto de dados sintéticos, com base em uma relação linear com ruído adicionado para simular variabilidade, no qual a variável resposta contínua (target) é crescimento da planta em centímentros\n",
        "\n",
        "Os resultados são exibidos abaixo:"
      ],
      "metadata": {
        "id": "Hcx4MLvWbS0o"
      }
    },
    {
      "cell_type": "code",
      "source": [
        "data.head(200)"
      ],
      "metadata": {
        "colab": {
          "base_uri": "https://localhost:8080/",
          "height": 424
        },
        "id": "daHERrGYaroZ",
        "outputId": "11a8d61f-84df-46da-a9d9-345c17c8b2c6"
      },
      "execution_count": null,
      "outputs": [
        {
          "output_type": "execute_result",
          "data": {
            "text/plain": [
              "     Luz_horas  Agua_litros  Crescimento_cm\n",
              "0     6.996321     2.105079       15.165233\n",
              "1    11.605714     0.710350       14.081450\n",
              "2     9.855952     0.904072       13.826894\n",
              "3     8.789268     2.746385       16.587111\n",
              "4     5.248149     2.016073       12.562867\n",
              "..         ...          ...             ...\n",
              "195   6.793677     2.826893       14.671224\n",
              "196   9.807645     2.646032       17.731653\n",
              "197  11.176882     1.572485       15.822480\n",
              "198  11.096691     2.377178       17.581349\n",
              "199  10.239004     2.386357       16.249533\n",
              "\n",
              "[200 rows x 3 columns]"
            ],
            "text/html": [
              "\n",
              "  <div id=\"df-9d641a8d-1699-40a0-9f41-a87964525752\" class=\"colab-df-container\">\n",
              "    <div>\n",
              "<style scoped>\n",
              "    .dataframe tbody tr th:only-of-type {\n",
              "        vertical-align: middle;\n",
              "    }\n",
              "\n",
              "    .dataframe tbody tr th {\n",
              "        vertical-align: top;\n",
              "    }\n",
              "\n",
              "    .dataframe thead th {\n",
              "        text-align: right;\n",
              "    }\n",
              "</style>\n",
              "<table border=\"1\" class=\"dataframe\">\n",
              "  <thead>\n",
              "    <tr style=\"text-align: right;\">\n",
              "      <th></th>\n",
              "      <th>Luz_horas</th>\n",
              "      <th>Agua_litros</th>\n",
              "      <th>Crescimento_cm</th>\n",
              "    </tr>\n",
              "  </thead>\n",
              "  <tbody>\n",
              "    <tr>\n",
              "      <th>0</th>\n",
              "      <td>6.996321</td>\n",
              "      <td>2.105079</td>\n",
              "      <td>15.165233</td>\n",
              "    </tr>\n",
              "    <tr>\n",
              "      <th>1</th>\n",
              "      <td>11.605714</td>\n",
              "      <td>0.710350</td>\n",
              "      <td>14.081450</td>\n",
              "    </tr>\n",
              "    <tr>\n",
              "      <th>2</th>\n",
              "      <td>9.855952</td>\n",
              "      <td>0.904072</td>\n",
              "      <td>13.826894</td>\n",
              "    </tr>\n",
              "    <tr>\n",
              "      <th>3</th>\n",
              "      <td>8.789268</td>\n",
              "      <td>2.746385</td>\n",
              "      <td>16.587111</td>\n",
              "    </tr>\n",
              "    <tr>\n",
              "      <th>4</th>\n",
              "      <td>5.248149</td>\n",
              "      <td>2.016073</td>\n",
              "      <td>12.562867</td>\n",
              "    </tr>\n",
              "    <tr>\n",
              "      <th>...</th>\n",
              "      <td>...</td>\n",
              "      <td>...</td>\n",
              "      <td>...</td>\n",
              "    </tr>\n",
              "    <tr>\n",
              "      <th>195</th>\n",
              "      <td>6.793677</td>\n",
              "      <td>2.826893</td>\n",
              "      <td>14.671224</td>\n",
              "    </tr>\n",
              "    <tr>\n",
              "      <th>196</th>\n",
              "      <td>9.807645</td>\n",
              "      <td>2.646032</td>\n",
              "      <td>17.731653</td>\n",
              "    </tr>\n",
              "    <tr>\n",
              "      <th>197</th>\n",
              "      <td>11.176882</td>\n",
              "      <td>1.572485</td>\n",
              "      <td>15.822480</td>\n",
              "    </tr>\n",
              "    <tr>\n",
              "      <th>198</th>\n",
              "      <td>11.096691</td>\n",
              "      <td>2.377178</td>\n",
              "      <td>17.581349</td>\n",
              "    </tr>\n",
              "    <tr>\n",
              "      <th>199</th>\n",
              "      <td>10.239004</td>\n",
              "      <td>2.386357</td>\n",
              "      <td>16.249533</td>\n",
              "    </tr>\n",
              "  </tbody>\n",
              "</table>\n",
              "<p>200 rows × 3 columns</p>\n",
              "</div>\n",
              "    <div class=\"colab-df-buttons\">\n",
              "\n",
              "  <div class=\"colab-df-container\">\n",
              "    <button class=\"colab-df-convert\" onclick=\"convertToInteractive('df-9d641a8d-1699-40a0-9f41-a87964525752')\"\n",
              "            title=\"Convert this dataframe to an interactive table.\"\n",
              "            style=\"display:none;\">\n",
              "\n",
              "  <svg xmlns=\"http://www.w3.org/2000/svg\" height=\"24px\" viewBox=\"0 -960 960 960\">\n",
              "    <path d=\"M120-120v-720h720v720H120Zm60-500h600v-160H180v160Zm220 220h160v-160H400v160Zm0 220h160v-160H400v160ZM180-400h160v-160H180v160Zm440 0h160v-160H620v160ZM180-180h160v-160H180v160Zm440 0h160v-160H620v160Z\"/>\n",
              "  </svg>\n",
              "    </button>\n",
              "\n",
              "  <style>\n",
              "    .colab-df-container {\n",
              "      display:flex;\n",
              "      gap: 12px;\n",
              "    }\n",
              "\n",
              "    .colab-df-convert {\n",
              "      background-color: #E8F0FE;\n",
              "      border: none;\n",
              "      border-radius: 50%;\n",
              "      cursor: pointer;\n",
              "      display: none;\n",
              "      fill: #1967D2;\n",
              "      height: 32px;\n",
              "      padding: 0 0 0 0;\n",
              "      width: 32px;\n",
              "    }\n",
              "\n",
              "    .colab-df-convert:hover {\n",
              "      background-color: #E2EBFA;\n",
              "      box-shadow: 0px 1px 2px rgba(60, 64, 67, 0.3), 0px 1px 3px 1px rgba(60, 64, 67, 0.15);\n",
              "      fill: #174EA6;\n",
              "    }\n",
              "\n",
              "    .colab-df-buttons div {\n",
              "      margin-bottom: 4px;\n",
              "    }\n",
              "\n",
              "    [theme=dark] .colab-df-convert {\n",
              "      background-color: #3B4455;\n",
              "      fill: #D2E3FC;\n",
              "    }\n",
              "\n",
              "    [theme=dark] .colab-df-convert:hover {\n",
              "      background-color: #434B5C;\n",
              "      box-shadow: 0px 1px 3px 1px rgba(0, 0, 0, 0.15);\n",
              "      filter: drop-shadow(0px 1px 2px rgba(0, 0, 0, 0.3));\n",
              "      fill: #FFFFFF;\n",
              "    }\n",
              "  </style>\n",
              "\n",
              "    <script>\n",
              "      const buttonEl =\n",
              "        document.querySelector('#df-9d641a8d-1699-40a0-9f41-a87964525752 button.colab-df-convert');\n",
              "      buttonEl.style.display =\n",
              "        google.colab.kernel.accessAllowed ? 'block' : 'none';\n",
              "\n",
              "      async function convertToInteractive(key) {\n",
              "        const element = document.querySelector('#df-9d641a8d-1699-40a0-9f41-a87964525752');\n",
              "        const dataTable =\n",
              "          await google.colab.kernel.invokeFunction('convertToInteractive',\n",
              "                                                    [key], {});\n",
              "        if (!dataTable) return;\n",
              "\n",
              "        const docLinkHtml = 'Like what you see? Visit the ' +\n",
              "          '<a target=\"_blank\" href=https://colab.research.google.com/notebooks/data_table.ipynb>data table notebook</a>'\n",
              "          + ' to learn more about interactive tables.';\n",
              "        element.innerHTML = '';\n",
              "        dataTable['output_type'] = 'display_data';\n",
              "        await google.colab.output.renderOutput(dataTable, element);\n",
              "        const docLink = document.createElement('div');\n",
              "        docLink.innerHTML = docLinkHtml;\n",
              "        element.appendChild(docLink);\n",
              "      }\n",
              "    </script>\n",
              "  </div>\n",
              "\n",
              "\n",
              "<div id=\"df-2387ad1e-22a5-4807-9fc2-920a75c7f49f\">\n",
              "  <button class=\"colab-df-quickchart\" onclick=\"quickchart('df-2387ad1e-22a5-4807-9fc2-920a75c7f49f')\"\n",
              "            title=\"Suggest charts\"\n",
              "            style=\"display:none;\">\n",
              "\n",
              "<svg xmlns=\"http://www.w3.org/2000/svg\" height=\"24px\"viewBox=\"0 0 24 24\"\n",
              "     width=\"24px\">\n",
              "    <g>\n",
              "        <path d=\"M19 3H5c-1.1 0-2 .9-2 2v14c0 1.1.9 2 2 2h14c1.1 0 2-.9 2-2V5c0-1.1-.9-2-2-2zM9 17H7v-7h2v7zm4 0h-2V7h2v10zm4 0h-2v-4h2v4z\"/>\n",
              "    </g>\n",
              "</svg>\n",
              "  </button>\n",
              "\n",
              "<style>\n",
              "  .colab-df-quickchart {\n",
              "      --bg-color: #E8F0FE;\n",
              "      --fill-color: #1967D2;\n",
              "      --hover-bg-color: #E2EBFA;\n",
              "      --hover-fill-color: #174EA6;\n",
              "      --disabled-fill-color: #AAA;\n",
              "      --disabled-bg-color: #DDD;\n",
              "  }\n",
              "\n",
              "  [theme=dark] .colab-df-quickchart {\n",
              "      --bg-color: #3B4455;\n",
              "      --fill-color: #D2E3FC;\n",
              "      --hover-bg-color: #434B5C;\n",
              "      --hover-fill-color: #FFFFFF;\n",
              "      --disabled-bg-color: #3B4455;\n",
              "      --disabled-fill-color: #666;\n",
              "  }\n",
              "\n",
              "  .colab-df-quickchart {\n",
              "    background-color: var(--bg-color);\n",
              "    border: none;\n",
              "    border-radius: 50%;\n",
              "    cursor: pointer;\n",
              "    display: none;\n",
              "    fill: var(--fill-color);\n",
              "    height: 32px;\n",
              "    padding: 0;\n",
              "    width: 32px;\n",
              "  }\n",
              "\n",
              "  .colab-df-quickchart:hover {\n",
              "    background-color: var(--hover-bg-color);\n",
              "    box-shadow: 0 1px 2px rgba(60, 64, 67, 0.3), 0 1px 3px 1px rgba(60, 64, 67, 0.15);\n",
              "    fill: var(--button-hover-fill-color);\n",
              "  }\n",
              "\n",
              "  .colab-df-quickchart-complete:disabled,\n",
              "  .colab-df-quickchart-complete:disabled:hover {\n",
              "    background-color: var(--disabled-bg-color);\n",
              "    fill: var(--disabled-fill-color);\n",
              "    box-shadow: none;\n",
              "  }\n",
              "\n",
              "  .colab-df-spinner {\n",
              "    border: 2px solid var(--fill-color);\n",
              "    border-color: transparent;\n",
              "    border-bottom-color: var(--fill-color);\n",
              "    animation:\n",
              "      spin 1s steps(1) infinite;\n",
              "  }\n",
              "\n",
              "  @keyframes spin {\n",
              "    0% {\n",
              "      border-color: transparent;\n",
              "      border-bottom-color: var(--fill-color);\n",
              "      border-left-color: var(--fill-color);\n",
              "    }\n",
              "    20% {\n",
              "      border-color: transparent;\n",
              "      border-left-color: var(--fill-color);\n",
              "      border-top-color: var(--fill-color);\n",
              "    }\n",
              "    30% {\n",
              "      border-color: transparent;\n",
              "      border-left-color: var(--fill-color);\n",
              "      border-top-color: var(--fill-color);\n",
              "      border-right-color: var(--fill-color);\n",
              "    }\n",
              "    40% {\n",
              "      border-color: transparent;\n",
              "      border-right-color: var(--fill-color);\n",
              "      border-top-color: var(--fill-color);\n",
              "    }\n",
              "    60% {\n",
              "      border-color: transparent;\n",
              "      border-right-color: var(--fill-color);\n",
              "    }\n",
              "    80% {\n",
              "      border-color: transparent;\n",
              "      border-right-color: var(--fill-color);\n",
              "      border-bottom-color: var(--fill-color);\n",
              "    }\n",
              "    90% {\n",
              "      border-color: transparent;\n",
              "      border-bottom-color: var(--fill-color);\n",
              "    }\n",
              "  }\n",
              "</style>\n",
              "\n",
              "  <script>\n",
              "    async function quickchart(key) {\n",
              "      const quickchartButtonEl =\n",
              "        document.querySelector('#' + key + ' button');\n",
              "      quickchartButtonEl.disabled = true;  // To prevent multiple clicks.\n",
              "      quickchartButtonEl.classList.add('colab-df-spinner');\n",
              "      try {\n",
              "        const charts = await google.colab.kernel.invokeFunction(\n",
              "            'suggestCharts', [key], {});\n",
              "      } catch (error) {\n",
              "        console.error('Error during call to suggestCharts:', error);\n",
              "      }\n",
              "      quickchartButtonEl.classList.remove('colab-df-spinner');\n",
              "      quickchartButtonEl.classList.add('colab-df-quickchart-complete');\n",
              "    }\n",
              "    (() => {\n",
              "      let quickchartButtonEl =\n",
              "        document.querySelector('#df-2387ad1e-22a5-4807-9fc2-920a75c7f49f button');\n",
              "      quickchartButtonEl.style.display =\n",
              "        google.colab.kernel.accessAllowed ? 'block' : 'none';\n",
              "    })();\n",
              "  </script>\n",
              "</div>\n",
              "\n",
              "    </div>\n",
              "  </div>\n"
            ],
            "application/vnd.google.colaboratory.intrinsic+json": {
              "type": "dataframe",
              "variable_name": "data",
              "summary": "{\n  \"name\": \"data\",\n  \"rows\": 200,\n  \"fields\": [\n    {\n      \"column\": \"Luz_horas\",\n      \"properties\": {\n        \"dtype\": \"number\",\n        \"std\": 2.359131449394988,\n        \"min\": 4.044176936988819,\n        \"max\": 11.895095492804138,\n        \"num_unique_values\": 200,\n        \"samples\": [\n          7.950364770915126,\n          5.4672360788274705,\n          8.860358815211507\n        ],\n        \"semantic_type\": \"\",\n        \"description\": \"\"\n      }\n    },\n    {\n      \"column\": \"Agua_litros\",\n      \"properties\": {\n        \"dtype\": \"number\",\n        \"std\": 0.7325029796597753,\n        \"min\": 0.5126539596155467,\n        \"max\": 2.9762628550016834,\n        \"num_unique_values\": 200,\n        \"samples\": [\n          1.805608150137011,\n          1.0931227187420003,\n          2.487028258854121\n        ],\n        \"semantic_type\": \"\",\n        \"description\": \"\"\n      }\n    },\n    {\n      \"column\": \"Crescimento_cm\",\n      \"properties\": {\n        \"dtype\": \"number\",\n        \"std\": 2.7436875142325325,\n        \"min\": 6.247794805862791,\n        \"max\": 20.252877434804773,\n        \"num_unique_values\": 200,\n        \"samples\": [\n          14.388751026133377,\n          10.734941169181257,\n          15.834819393686187\n        ],\n        \"semantic_type\": \"\",\n        \"description\": \"\"\n      }\n    }\n  ]\n}"
            }
          },
          "metadata": {},
          "execution_count": 6
        }
      ]
    },
    {
      "cell_type": "markdown",
      "source": [
        "Os dados serão dividos em 70% para treino e 30% para teste, no qual o conjunto de teste será utilizado exclusivamento para a avaliação final.\n",
        "\n",
        "* **Treino**: Para ajustar o modelo.\n",
        "* **Teste**: Para avaliar a performance do modelo em dados desconhecidos."
      ],
      "metadata": {
        "id": "F3ZWLLMkhGOM"
      }
    },
    {
      "cell_type": "code",
      "source": [
        "# Dividir as variáveis preditoras (X) e a variável resposta (y)\n",
        "X = data[['Luz_horas', 'Agua_litros']]  # Variáveis preditoras\n",
        "y = data['Crescimento_cm']             # Variável resposta\n",
        "\n",
        "# Divisão dos dados (70% treino, 30% teste)\n",
        "X_train, X_test, y_train, y_test = train_test_split(X, y, test_size=0.3, random_state=42)\n",
        "\n",
        "# Verificar o tamanho dos conjuntos\n",
        "print(f\"Conjunto de treino: {X_train.shape[0]} amostras\")\n",
        "print(f\"Conjunto de teste: {X_test.shape[0]} amostras\")"
      ],
      "metadata": {
        "id": "9W8bjqe7kO0J",
        "colab": {
          "base_uri": "https://localhost:8080/"
        },
        "outputId": "1fc300c8-039e-492b-d5bb-f3b675d68982"
      },
      "execution_count": 4,
      "outputs": [
        {
          "output_type": "stream",
          "name": "stdout",
          "text": [
            "Conjunto de treino: 700 amostras\n",
            "Conjunto de teste: 300 amostras\n"
          ]
        }
      ]
    },
    {
      "cell_type": "markdown",
      "source": [
        "### Treinamento do modelo de regressão linear\n",
        "A equação que o modelo ajusta tem a forma:\n",
        "\n",
        "`Crescimento_cm=(Coeficiente_1×Luz_horas)+(Coeficiente_2×Agua_litros)+Intercepto`\n",
        "\n",
        "Após o treinamento, você pode usar esse modelo para fazer previsões no conjunto de teste."
      ],
      "metadata": {
        "id": "h4bcjYiVburY"
      }
    },
    {
      "cell_type": "code",
      "source": [
        "# Instanciar o modelo de regressão linear\n",
        "modelo = LinearRegression()\n",
        "\n",
        "# Treinar o modelo com o conjunto de treino\n",
        "modelo.fit(X_train, y_train)\n",
        "\n",
        "# Exibir os coeficientes do modelo\n",
        "print(\"Coeficientes:\", modelo.coef_)\n",
        "print(\"Intercepto:\", modelo.intercept_)\n"
      ],
      "metadata": {
        "colab": {
          "base_uri": "https://localhost:8080/"
        },
        "id": "vnOosEqBbuap",
        "outputId": "acd3f1b2-0ebc-47e6-fddb-21e05b1d5d93"
      },
      "execution_count": 5,
      "outputs": [
        {
          "output_type": "stream",
          "name": "stdout",
          "text": [
            "Coeficientes: [0.80450818 2.49673873]\n",
            "Intercepto: 2.9576118490439214\n"
          ]
        }
      ]
    },
    {
      "cell_type": "markdown",
      "source": [
        "## Avaliação do Modelo e Análise de Resíduos\n",
        "\n",
        "Após o treinamento, é realizada uma avaliação do modelo no conjunto de teste, calculando métricas de desempenho e analisando os resíduos:"
      ],
      "metadata": {
        "id": "UQghy2ETcb6g"
      }
    },
    {
      "cell_type": "code",
      "source": [
        "# Fazer previsões no conjunto de teste\n",
        "y_pred = modelo.predict(X_test)\n",
        "\n",
        "# Calcular métricas\n",
        "mae = mean_absolute_error(y_test, y_pred)  # Erro absoluto médio\n",
        "mse = mean_squared_error(y_test, y_pred)  # Erro quadrático médio\n",
        "rmse = mse ** 0.5  # Raiz do erro quadrático médio\n",
        "r2 = r2_score(y_test, y_pred)  # Coeficiente de determinação\n",
        "\n",
        "# Exibir as métricas\n",
        "print(f\"Erro absoluto médio (MAE): {mae:.2f}\")\n",
        "print(f\"Erro quadrático médio (MSE): {mse:.2f}\")\n",
        "print(f\"Raiz do erro quadrático médio (RMSE): {rmse:.2f}\")\n",
        "print(f\"Coeficiente de determinação (R²): {r2:.2f}\")\n",
        "\n",
        "# Análise de resíduos\n",
        "residuos = y_test - y_pred\n",
        "\n",
        "# Plotar resíduos\n",
        "plt.figure(figsize=(10, 6))\n",
        "\n",
        "# Resíduos vs. Previsões\n",
        "plt.subplot(1, 2, 1)\n",
        "plt.scatter(y_pred, residuos, alpha=0.7)\n",
        "plt.axhline(0, color='red', linestyle='--', linewidth=1)\n",
        "plt.title(\"Resíduos vs. Previsões\")\n",
        "plt.xlabel(\"Valores Previstos\")\n",
        "plt.ylabel(\"Resíduos\")\n",
        "\n",
        "# Histograma dos resíduos\n",
        "plt.subplot(1, 2, 2)\n",
        "plt.hist(residuos, bins=20, color='skyblue', edgecolor='black')\n",
        "plt.title(\"Distribuição dos Resíduos\")\n",
        "plt.xlabel(\"Resíduos\")\n",
        "plt.ylabel(\"Frequência\")\n",
        "\n",
        "plt.tight_layout()\n",
        "plt.show()\n"
      ],
      "metadata": {
        "colab": {
          "base_uri": "https://localhost:8080/",
          "height": 676
        },
        "id": "rS5Aw4Qkcc6P",
        "outputId": "ec003777-1c6c-4bdd-853f-959f64173b00"
      },
      "execution_count": 6,
      "outputs": [
        {
          "output_type": "stream",
          "name": "stdout",
          "text": [
            "Erro absoluto médio (MAE): 0.76\n",
            "Erro quadrático médio (MSE): 0.93\n",
            "Raiz do erro quadrático médio (RMSE): 0.97\n",
            "Coeficiente de determinação (R²): 0.87\n"
          ]
        },
        {
          "output_type": "display_data",
          "data": {
            "text/plain": [
              "<Figure size 1000x600 with 2 Axes>"
            ],
            "image/png": "[encoded data removed]"
          },
          "metadata": {}
        }
      ]
    },
    {
      "cell_type": "markdown",
      "source": [
        "1. Métricas calculadas:\n",
        "* MAE: Mede o erro médio absoluto entre valores reais e previstos.\n",
        "* MSE: Penaliza erros maiores, calculando o quadrado das diferenças.\n",
        "* RMSE: É a raiz quadrada do MSE, mais intuitiva por estar na mesma escala da variável resposta.\n",
        "* R²: Mede a proporção da variância explicada pelo modelo (próximo de 1 é melhor).\n",
        "2. Análise de resíduos:\n",
        "\n",
        "* Resíduos vs. Previsões: Mostra resíduos distribuídos aleatoriamente ao redor de zero (sem padrão claro).\n",
        "* Histograma dos resíduos: Deve se aproximar de uma distribuição normal."
      ],
      "metadata": {
        "id": "Nezd5VFxcsPA"
      }
    },
    {
      "cell_type": "markdown",
      "source": [
        " ## Validação cruzada\n",
        "\n",
        "A técnica de validação cruzada permite avaliar o desempenho do modelo de forma mais robusta, reduzindo a dependência de uma única divisão de treino e teste, pois é avaliado várias vezes com diferentes partes do conjunto de treinamento.\n",
        "\n",
        "**Interpretação:**\n",
        "* Se o RMSE da validação cruzada for próximo ao RMSE do conjunto de teste, o modelo generaliza bem.\n",
        "* Diferenças significativas podem indicar overfitting ou underfitting."
      ],
      "metadata": {
        "id": "elYH_rIb5DIn"
      }
    },
    {
      "cell_type": "code",
      "source": [
        "# Aplicar validação cruzada com 5 folds no conjunto de treino\n",
        "cv_scores = cross_val_score(modelo, X_train, y_train, cv=5, scoring='neg_mean_squared_error')\n",
        "\n",
        "# Calcular métricas da validação cruzada\n",
        "cv_rmse = np.sqrt(-cv_scores)  # Convertendo para RMSE\n",
        "cv_rmse_mean = np.mean(cv_rmse)  # Média do RMSE nos folds\n",
        "\n",
        "# Exibir os resultados da validação cruzada\n",
        "print(f\"RMSE nos folds de validação cruzada: {cv_rmse}\")\n",
        "print(f\"Média do RMSE na validação cruzada: {cv_rmse_mean:.2f}\")\n",
        "\n",
        "# Comparar com o conjunto de teste\n",
        "print(f\"RMSE no conjunto de teste: {rmse:.2f}\")"
      ],
      "metadata": {
        "colab": {
          "base_uri": "https://localhost:8080/"
        },
        "id": "dULg68pecstg",
        "outputId": "27788dae-f2fa-4147-a2da-43f677cc941e"
      },
      "execution_count": 7,
      "outputs": [
        {
          "output_type": "stream",
          "name": "stdout",
          "text": [
            "RMSE nos folds de validação cruzada: [1.0874881  0.91038216 0.99365298 0.97559233 0.95739493]\n",
            "Média do RMSE na validação cruzada: 0.98\n",
            "RMSE no conjunto de teste: 0.97\n"
          ]
        }
      ]
    },
    {
      "cell_type": "markdown",
      "source": [
        "## Análise dos Resultados\n",
        "\n",
        "Após a execução do código, os resultados fornecerão métricas que permite comparar o desempenho do modelo nas abordagens de treino/teste e validação cruzada.\n",
        "\n",
        "Observou-se que o **RMSE é semelhante em validação cruzada e conjunto de teste**, sendo assim o modelo apresenta bom equilíbrio entre viés e variância, está capturando padrões gerais nos dados, sem superajustar ao conjunto de treino."
      ],
      "metadata": {
        "id": "s9mvR0LGdFkQ"
      }
    },
    {
      "cell_type": "markdown",
      "source": [
        "## Conclusão\n",
        "\n",
        "O modelo de regressão linear demonstrou um bom desempenho na previsão do crescimento da planta. As métricas indicam que o modelo é capaz de relacionar as variáveis preditoras (luz e água) e a variável resposta (crescimento).\n",
        "\n",
        "Os resultados da validação cruzada foram consistentes com os resultados do conjunto de teste, o que sugere que o modelo generaliza bem para dados não vistos durante o treinamento. Vale destacar que este comportamento só foi observado com um **número grande de amostras** (1000), no entanto, em um primeira tentativa com menos amostras o RMSE da validação cruzada foi bem diferente do valor do conjunto de teste, assim percebe-se a relação entre número de amostras e desempenho do modelo.\n",
        "\n",
        "**Vantagens da Validação Cruzada:**\n",
        "* Ela evitou o viés decorrente de uma única divisão dos dados em treino e teste.\n",
        "* É especialmente útil quando o conjunto de dados é limitado\n",
        "* Forneceu uma estimativa mais precisa do desempenho do modelo em dados não vistos\n",
        "\n",
        "**Sugestões para Melhorias:**\n",
        "* Incorporar variáveis adicionais relevantes para o crescimento das plantas, como nutrientes ou temperatura.\n",
        "* Testar modelos mais complexos, como regressão polinomial, para capturar relações não lineares.\n",
        "* Ampliar o conjunto de dados, se possível, para aumentar a representatividade."
      ],
      "metadata": {
        "id": "UhenL4Uv-REy"
      }
    }
  ]
}